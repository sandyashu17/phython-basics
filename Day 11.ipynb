{
 "cells": [
  {
   "cell_type": "code",
   "execution_count": 1,
   "metadata": {},
   "outputs": [],
   "source": [
    "#introduction to phython functions:\n",
    "\n",
    "#code reusability\n",
    "\n",
    "def greet_user(): #funtion name\n",
    "    \"\"\"simple geeting\"\"\"# doc-string ->commenting inside the function\n",
    "    print('hello')"
   ]
  },
  {
   "cell_type": "code",
   "execution_count": 4,
   "metadata": {},
   "outputs": [
    {
     "name": "stdout",
     "output_type": "stream",
     "text": [
      "hello\n"
     ]
    }
   ],
   "source": [
    "greet_user()#fun call"
   ]
  },
  {
   "cell_type": "code",
   "execution_count": 5,
   "metadata": {},
   "outputs": [],
   "source": [
    "#passing information to a fn:\n",
    "\n",
    "#enhancement of code:\n",
    "\n",
    "def greet_user(username): #parameter passing->username\n",
    "    \"\"\"simple geeting\"\"\"# doc-string \n",
    "    print(f\"Welcome back, {username.title()}!!!\")"
   ]
  },
  {
   "cell_type": "code",
   "execution_count": 6,
   "metadata": {},
   "outputs": [
    {
     "ename": "NameError",
     "evalue": "name 'sana' is not defined",
     "output_type": "error",
     "traceback": [
      "\u001b[1;31m---------------------------------------------------------------------------\u001b[0m",
      "\u001b[1;31mNameError\u001b[0m                                 Traceback (most recent call last)",
      "\u001b[1;32m<ipython-input-6-a06579cf0606>\u001b[0m in \u001b[0;36m<module>\u001b[1;34m\u001b[0m\n\u001b[1;32m----> 1\u001b[1;33m \u001b[0mgreet_user\u001b[0m\u001b[1;33m(\u001b[0m\u001b[0msana\u001b[0m\u001b[1;33m)\u001b[0m\u001b[1;33m\u001b[0m\u001b[1;33m\u001b[0m\u001b[0m\n\u001b[0m",
      "\u001b[1;31mNameError\u001b[0m: name 'sana' is not defined"
     ]
    }
   ],
   "source": [
    "greet_user(sana)#whn we are not passing args"
   ]
  },
  {
   "cell_type": "code",
   "execution_count": 7,
   "metadata": {},
   "outputs": [
    {
     "name": "stdout",
     "output_type": "stream",
     "text": [
      "Welcome back, Sana!!!\n"
     ]
    }
   ],
   "source": [
    "greet_user('sana')#args passing->runtime args# fn can be called million of times"
   ]
  },
  {
   "cell_type": "code",
   "execution_count": 13,
   "metadata": {},
   "outputs": [],
   "source": [
    "#types of arguments: 1.positional,2.keyword, 3. default (hardcoding the values)\n",
    "\n",
    "def describe_pet(animal_type, pet_name):#fn name\n",
    "    \"\"\"Display infor abt pet\"\"\"#->doc strings\n",
    "    print(f\"\\n I have a {animal_type}\")\n",
    "    print(f\" \\n My {animal_type}'s name is {pet_name.title()}\")#fn def"
   ]
  },
  {
   "cell_type": "code",
   "execution_count": 14,
   "metadata": {},
   "outputs": [
    {
     "name": "stdout",
     "output_type": "stream",
     "text": [
      "\n",
      " I have a dog\n",
      " \n",
      " My dog's name is Tiger\n"
     ]
    }
   ],
   "source": [
    "describe_pet('dog','tiger')#fn calling-> positional args -> by default fn will be accepting positional args"
   ]
  },
  {
   "cell_type": "code",
   "execution_count": 16,
   "metadata": {},
   "outputs": [
    {
     "name": "stdout",
     "output_type": "stream",
     "text": [
      "\n",
      " I have a meow\n",
      " \n",
      " My meow's name is Cat\n"
     ]
    }
   ],
   "source": [
    "describe_pet('meow','cat')#position of the arg is incorrect #position interchanged"
   ]
  },
  {
   "cell_type": "code",
   "execution_count": 23,
   "metadata": {},
   "outputs": [],
   "source": [
    "#keyword args:\n",
    "\n",
    "def describe_pets(animal_type, pet_name1,pet_name2):#fn name->keyword args\n",
    "    \"\"\"Display infor abt pet\"\"\"#->doc strings\n",
    "    print(f\"\\n I have many {animal_type}es\")\n",
    "    print(f\" \\n My {animal_type}es names are {pet_name1.title()} and {pet_name2.title()}\")#fn def"
   ]
  },
  {
   "cell_type": "code",
   "execution_count": 24,
   "metadata": {},
   "outputs": [
    {
     "name": "stdout",
     "output_type": "stream",
     "text": [
      "\n",
      " I have many fishes\n",
      " \n",
      " My fishes names are Nemo and Sura\n"
     ]
    }
   ],
   "source": [
    "describe_pets(pet_name2='sura',pet_name1='nemo',animal_type='fish')#changing postions but using keywords along with args"
   ]
  },
  {
   "cell_type": "code",
   "execution_count": null,
   "metadata": {},
   "outputs": [],
   "source": [
    " "
   ]
  },
  {
   "cell_type": "code",
   "execution_count": null,
   "metadata": {},
   "outputs": [],
   "source": []
  }
 ],
 "metadata": {
  "kernelspec": {
   "display_name": "Python 3",
   "language": "python",
   "name": "python3"
  },
  "language_info": {
   "codemirror_mode": {
    "name": "ipython",
    "version": 3
   },
   "file_extension": ".py",
   "mimetype": "text/x-python",
   "name": "python",
   "nbconvert_exporter": "python",
   "pygments_lexer": "ipython3",
   "version": "3.7.4"
  }
 },
 "nbformat": 4,
 "nbformat_minor": 2
}

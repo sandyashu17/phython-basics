{
 "cells": [
  {
   "cell_type": "code",
   "execution_count": 1,
   "metadata": {},
   "outputs": [],
   "source": [
    "#accepting user input"
   ]
  },
  {
   "cell_type": "code",
   "execution_count": 7,
   "metadata": {},
   "outputs": [
    {
     "name": "stdout",
     "output_type": "stream",
     "text": [
      "tell me something i will return you back Hai!!!\n",
      "Hai!!!\n"
     ]
    }
   ],
   "source": [
    "message=input('tell me something i will return you back ')\n",
    "\n",
    "print(message)"
   ]
  },
  {
   "cell_type": "code",
   "execution_count": 10,
   "metadata": {},
   "outputs": [
    {
     "name": "stdout",
     "output_type": "stream",
     "text": [
      "what is your name:sandy\n",
      "\n",
      " Welcome back, Sandy!\n"
     ]
    }
   ],
   "source": [
    "name=input('what is your name:')#enhancement of code:\n",
    "\n",
    "print(f\"\\n Welcome back, {name.title()}!\")#\\n ->next line  "
   ]
  },
  {
   "cell_type": "code",
   "execution_count": 12,
   "metadata": {},
   "outputs": [
    {
     "name": "stdout",
     "output_type": "stream",
     "text": [
      "how old are you?18\n",
      "\n",
      " Yes!!!, you can vote\n"
     ]
    }
   ],
   "source": [
    "age=input('how old are you?')#if condition\n",
    "\n",
    "age=int(age)#type casting ->by default input will be accepting the data type as str->string\n",
    "\n",
    "if age>=18:\n",
    "    print('\\n Yes!!!, you can vote')\n",
    "else:\n",
    "    print('\\n Sorry!!!, not eligible to vote')"
   ]
  },
  {
   "cell_type": "code",
   "execution_count": 13,
   "metadata": {},
   "outputs": [
    {
     "name": "stdout",
     "output_type": "stream",
     "text": [
      "how old are you?16\n",
      "\n",
      " Sorry!!!, not eligible to vote\n"
     ]
    }
   ],
   "source": [
    "age=input('how old are you?')\n",
    "\n",
    "age=int(age)\n",
    "\n",
    "if age>=18:#if condition is used for validating the condition\n",
    "    print('\\n Yes!!!, you can vote')\n",
    "else:\n",
    "    print('\\n Sorry!!!, not eligible to vote')"
   ]
  },
  {
   "cell_type": "code",
   "execution_count": null,
   "metadata": {},
   "outputs": [],
   "source": []
  }
 ],
 "metadata": {
  "kernelspec": {
   "display_name": "Python 3",
   "language": "python",
   "name": "python3"
  },
  "language_info": {
   "codemirror_mode": {
    "name": "ipython",
    "version": 3
   },
   "file_extension": ".py",
   "mimetype": "text/x-python",
   "name": "python",
   "nbconvert_exporter": "python",
   "pygments_lexer": "ipython3",
   "version": "3.7.4"
  }
 },
 "nbformat": 4,
 "nbformat_minor": 2
}

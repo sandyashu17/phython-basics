{
 "cells": [
  {
   "cell_type": "code",
   "execution_count": 11,
   "metadata": {},
   "outputs": [
    {
     "name": "stdout",
     "output_type": "stream",
     "text": [
      "['san', 'ashu', 'sumit', 'zahir', 'malar']\n"
     ]
    }
   ],
   "source": [
    "#adding,changing and moving elements from a list:\n",
    "my_students=['san','ashu', 'sumit', 'zahir','malar']\n",
    "print(my_students)"
   ]
  },
  {
   "cell_type": "code",
   "execution_count": 12,
   "metadata": {},
   "outputs": [
    {
     "name": "stdout",
     "output_type": "stream",
     "text": [
      "['san', 'ashu', 'sumit', 'zahir', 'malar', 'geetha']\n"
     ]
    }
   ],
   "source": [
    "my_students.append('geetha')# add elements\n",
    "print(my_students)# append->at the end"
   ]
  },
  {
   "cell_type": "code",
   "execution_count": 13,
   "metadata": {},
   "outputs": [
    {
     "name": "stdout",
     "output_type": "stream",
     "text": [
      "['san', 'harsha', 'sumit', 'zahir', 'malar', 'geetha']\n"
     ]
    }
   ],
   "source": [
    "my_students[1]='harsha'#add element at index 1\n",
    "print(my_students)#modify the element->remove the existing "
   ]
  },
  {
   "cell_type": "code",
   "execution_count": 14,
   "metadata": {},
   "outputs": [
    {
     "name": "stdout",
     "output_type": "stream",
     "text": [
      "['san', 'harsha', 'sumit', 'Suresh', 'zahir', 'malar', 'geetha']\n"
     ]
    }
   ],
   "source": [
    "my_students.insert(3,'Suresh')#insert->in between \n",
    "print(my_students)"
   ]
  },
  {
   "cell_type": "code",
   "execution_count": 15,
   "metadata": {},
   "outputs": [
    {
     "name": "stdout",
     "output_type": "stream",
     "text": [
      "['san', 'harsha', 'Suresh', 'zahir', 'malar', 'geetha']\n"
     ]
    }
   ],
   "source": [
    "del my_students[2]# delete/remove the elements \n",
    "print(my_students)"
   ]
  },
  {
   "cell_type": "code",
   "execution_count": 16,
   "metadata": {},
   "outputs": [
    {
     "data": {
      "text/plain": [
       "'geetha'"
      ]
     },
     "execution_count": 16,
     "metadata": {},
     "output_type": "execute_result"
    }
   ],
   "source": [
    "my_students.pop()# remove using pop() method 1-> having carboncopy of the deleted items 2->by default,deleting at the end"
   ]
  },
  {
   "cell_type": "code",
   "execution_count": 17,
   "metadata": {},
   "outputs": [
    {
     "name": "stdout",
     "output_type": "stream",
     "text": [
      "['san', 'harsha', 'Suresh', 'zahir', 'malar']\n"
     ]
    }
   ],
   "source": [
    "print(my_students)"
   ]
  },
  {
   "cell_type": "code",
   "execution_count": 18,
   "metadata": {},
   "outputs": [
    {
     "name": "stdout",
     "output_type": "stream",
     "text": [
      "['san', 'Suresh', 'zahir', 'malar']\n"
     ]
    }
   ],
   "source": [
    "my_students.pop(1)#remove at index 1\n",
    "print(my_students)"
   ]
  },
  {
   "cell_type": "code",
   "execution_count": 24,
   "metadata": {},
   "outputs": [
    {
     "name": "stdout",
     "output_type": "stream",
     "text": [
      "['sandy', 'malar', 'viji', 'amlu']\n"
     ]
    }
   ],
   "source": [
    "stud=['sandy','malar','viji','amlu']#organizing a list\n",
    "print(stud)"
   ]
  },
  {
   "cell_type": "code",
   "execution_count": 25,
   "metadata": {},
   "outputs": [
    {
     "name": "stdout",
     "output_type": "stream",
     "text": [
      "['amlu', 'malar', 'sandy', 'viji']\n"
     ]
    }
   ],
   "source": [
    "stud.sort()# permanent sort in alphabetical orde\n",
    "print(stud)"
   ]
  },
  {
   "cell_type": "code",
   "execution_count": 26,
   "metadata": {},
   "outputs": [
    {
     "name": "stdout",
     "output_type": "stream",
     "text": [
      "['divya', 'uma', 'hema', 'sara', 'harsha']\n"
     ]
    }
   ],
   "source": [
    "stud2=['divya','uma','hema','sara','harsha']\n",
    "print(stud2)"
   ]
  },
  {
   "cell_type": "code",
   "execution_count": 29,
   "metadata": {},
   "outputs": [
    {
     "name": "stdout",
     "output_type": "stream",
     "text": [
      "sorted list:\n",
      "['divya', 'harsha', 'hema', 'sara', 'uma']\n"
     ]
    }
   ],
   "source": [
    "print('sorted list:')\n",
    "print(sorted(stud2))#for timebeing doing temp sort ->sorted"
   ]
  },
  {
   "cell_type": "code",
   "execution_count": 30,
   "metadata": {},
   "outputs": [
    {
     "name": "stdout",
     "output_type": "stream",
     "text": [
      "['divya', 'uma', 'hema', 'sara', 'harsha']\n"
     ]
    }
   ],
   "source": [
    "print(stud2)"
   ]
  },
  {
   "cell_type": "code",
   "execution_count": null,
   "metadata": {},
   "outputs": [],
   "source": [
    "#sort vs sorted\n",
    "#permanent -temporary"
   ]
  }
 ],
 "metadata": {
  "kernelspec": {
   "display_name": "Python 3",
   "language": "python",
   "name": "python3"
  },
  "language_info": {
   "codemirror_mode": {
    "name": "ipython",
    "version": 3
   },
   "file_extension": ".py",
   "mimetype": "text/x-python",
   "name": "python",
   "nbconvert_exporter": "python",
   "pygments_lexer": "ipython3",
   "version": "3.7.4"
  }
 },
 "nbformat": 4,
 "nbformat_minor": 2
}

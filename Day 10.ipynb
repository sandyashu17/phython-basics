{
 "cells": [
  {
   "cell_type": "code",
   "execution_count": 2,
   "metadata": {},
   "outputs": [
    {
     "name": "stdout",
     "output_type": "stream",
     "text": [
      "{'user_name': 'malar 29', 'first_name': 'malar', 'last_name': 'maya'}\n"
     ]
    }
   ],
   "source": [
    "#introduction to for loop in dict\n",
    "\n",
    "#looping through all key value pairs\n",
    "\n",
    "user_o={'user_name' : 'malar 29',\n",
    "       'first_name' : 'malar',\n",
    "       'last_name' : 'maya'}\n",
    "\n",
    "print(user_o)"
   ]
  },
  {
   "cell_type": "code",
   "execution_count": 4,
   "metadata": {},
   "outputs": [
    {
     "name": "stdout",
     "output_type": "stream",
     "text": [
      "\n",
      " key : user_name\n",
      "\n",
      " value : malar 29\n",
      "\n",
      " key : first_name\n",
      "\n",
      " value : malar\n",
      "\n",
      " key : last_name\n",
      "\n",
      " value : maya\n"
     ]
    }
   ],
   "source": [
    "#for temp variable in main variable\n",
    "\n",
    "#print(temp var)\n",
    "\n",
    "#items()-> to get both keys and values\n",
    "\n",
    "for key,value in user_o.items():#key, value ->temp var \n",
    "    print(f\"\\n key : {key}\")#key->predefined by using f strings\n",
    "    print(f\"\\n value : {value}\")#value->predefined by using f strings"
   ]
  },
  {
   "cell_type": "code",
   "execution_count": 6,
   "metadata": {},
   "outputs": [
    {
     "name": "stdout",
     "output_type": "stream",
     "text": [
      "User_Name\n",
      "First_Name\n",
      "Last_Name\n"
     ]
    }
   ],
   "source": [
    "#to get only keys in for loop\n",
    "\n",
    "for name in user_o.keys():#->keys() to get all key\n",
    "    print(name.title())"
   ]
  },
  {
   "cell_type": "code",
   "execution_count": 7,
   "metadata": {},
   "outputs": [
    {
     "name": "stdout",
     "output_type": "stream",
     "text": [
      "Malar 29\n",
      "Malar\n",
      "Maya\n"
     ]
    }
   ],
   "source": [
    "#to get all values in for loop:\n",
    "\n",
    "for value in user_o.values():#-> values() to get all values\n",
    "    print(value.title())"
   ]
  },
  {
   "cell_type": "code",
   "execution_count": 8,
   "metadata": {},
   "outputs": [
    {
     "name": "stdout",
     "output_type": "stream",
     "text": [
      "1\n",
      "2\n",
      "3\n",
      "4\n",
      "5\n"
     ]
    }
   ],
   "source": [
    "#introduction to while loops\n",
    "\n",
    "# as long as or till a certain condition is true it will execute:\n",
    "\n",
    "#iteration->a single execution of a program\n",
    "\n",
    "cur_num=1 # starting point =1\n",
    "\n",
    "while cur_num<=5:# validating condition\n",
    "    print(cur_num)\n",
    "    cur_num+=1# every time incrementing the value by 1"
   ]
  },
  {
   "cell_type": "code",
   "execution_count": 9,
   "metadata": {},
   "outputs": [],
   "source": [
    "# introduction to phython fundamental:\n",
    "\n",
    "#code reusability\n",
    "\n",
    "#write- once\n",
    "#read- many\n",
    "\n",
    "def greet_user(): #funtion name\n",
    "    \"\"\"simple geeting\"\"\"# doc-string ->commenting inside the function\n",
    "    print('hello')"
   ]
  },
  {
   "cell_type": "code",
   "execution_count": 10,
   "metadata": {},
   "outputs": [
    {
     "name": "stdout",
     "output_type": "stream",
     "text": [
      "hello\n"
     ]
    }
   ],
   "source": [
    "greet_user()#-> function call"
   ]
  },
  {
   "cell_type": "code",
   "execution_count": 15,
   "metadata": {},
   "outputs": [],
   "source": [
    "#passing information to a function \n",
    "\n",
    "def greet_user(user_name):\n",
    "    \"\"\"greet using user name\"\"\"\n",
    "    print(f\"Welcome back, {user_name.title()}\")"
   ]
  },
  {
   "cell_type": "code",
   "execution_count": 16,
   "metadata": {},
   "outputs": [
    {
     "name": "stdout",
     "output_type": "stream",
     "text": [
      "Welcome back, Sandy\n"
     ]
    }
   ],
   "source": [
    "greet_user('sandy')"
   ]
  },
  {
   "cell_type": "code",
   "execution_count": null,
   "metadata": {},
   "outputs": [],
   "source": []
  }
 ],
 "metadata": {
  "kernelspec": {
   "display_name": "Python 3",
   "language": "python",
   "name": "python3"
  },
  "language_info": {
   "codemirror_mode": {
    "name": "ipython",
    "version": 3
   },
   "file_extension": ".py",
   "mimetype": "text/x-python",
   "name": "python",
   "nbconvert_exporter": "python",
   "pygments_lexer": "ipython3",
   "version": "3.7.4"
  }
 },
 "nbformat": 4,
 "nbformat_minor": 2
}

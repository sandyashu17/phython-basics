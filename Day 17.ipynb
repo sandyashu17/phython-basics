{
 "cells": [
  {
   "cell_type": "code",
   "execution_count": 1,
   "metadata": {},
   "outputs": [
    {
     "name": "stdout",
     "output_type": "stream",
     "text": [
      "Hello all!  \n",
      "\n",
      "Phython is one of the most demand language in 2020.\n"
     ]
    }
   ],
   "source": [
    "#file handling in phython:\n",
    "#reading of the file \n",
    "with open('sample_text.txt') as file_object:#alias name:->as \n",
    "    contents = file_object.read()\n",
    "    print(contents)"
   ]
  },
  {
   "cell_type": "code",
   "execution_count": 2,
   "metadata": {},
   "outputs": [
    {
     "name": "stdout",
     "output_type": "stream",
     "text": [
      "10\n",
      "20\n",
      "60\n",
      "40\n",
      "50\n",
      "80\n",
      "5\n"
     ]
    }
   ],
   "source": [
    "with open('digits.txt') as file_object:#alias name:->as \n",
    "    contents = file_object.read()\n",
    "    print(contents)"
   ]
  },
  {
   "cell_type": "code",
   "execution_count": 3,
   "metadata": {},
   "outputs": [
    {
     "name": "stdout",
     "output_type": "stream",
     "text": [
      "10\n",
      "\n",
      "20\n",
      "\n",
      "60\n",
      "\n",
      "40\n",
      "\n",
      "50\n",
      "\n",
      "80\n",
      "\n",
      "5\n"
     ]
    }
   ],
   "source": [
    "with open ('digits.txt') as file_object:\n",
    "    for line in file_object:\n",
    "        print(line)"
   ]
  },
  {
   "cell_type": "code",
   "execution_count": 9,
   "metadata": {},
   "outputs": [],
   "source": [
    "#writing data to the file:--->'w'->overwritten\n",
    "\n",
    "with open('sample_text.txt' , 'w') as file_object:\n",
    "    file_object.write('you are doing good job in class')\n"
   ]
  },
  {
   "cell_type": "code",
   "execution_count": 10,
   "metadata": {},
   "outputs": [
    {
     "name": "stdout",
     "output_type": "stream",
     "text": [
      "you are doing good job in class\n"
     ]
    }
   ],
   "source": [
    "with open('sample_text.txt') as file_object:#over written\n",
    "    contents = file_object.read()\n",
    "    print(contents)"
   ]
  },
  {
   "cell_type": "code",
   "execution_count": null,
   "metadata": {},
   "outputs": [],
   "source": []
  }
 ],
 "metadata": {
  "kernelspec": {
   "display_name": "Python 3",
   "language": "python",
   "name": "python3"
  },
  "language_info": {
   "codemirror_mode": {
    "name": "ipython",
    "version": 3
   },
   "file_extension": ".py",
   "mimetype": "text/x-python",
   "name": "python",
   "nbconvert_exporter": "python",
   "pygments_lexer": "ipython3",
   "version": "3.7.4"
  }
 },
 "nbformat": 4,
 "nbformat_minor": 2
}

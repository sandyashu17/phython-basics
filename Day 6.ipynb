{
 "cells": [
  {
   "cell_type": "code",
   "execution_count": 1,
   "metadata": {},
   "outputs": [
    {
     "name": "stdout",
     "output_type": "stream",
     "text": [
      "['san', 'harsha', 'sumit', 'Suresh', 'zahir', 'malar', 'geetha']\n"
     ]
    }
   ],
   "source": [
    "#introduction to for loop:\n",
    "my_stud=['san', 'harsha', 'sumit', 'Suresh', 'zahir', 'malar', 'geetha']\n",
    "\n",
    "print(my_stud)"
   ]
  },
  {
   "cell_type": "code",
   "execution_count": 2,
   "metadata": {},
   "outputs": [
    {
     "name": "stdout",
     "output_type": "stream",
     "text": [
      "san\n",
      "harsha\n",
      "sumit\n",
      "Suresh\n",
      "zahir\n",
      "malar\n",
      "geetha\n"
     ]
    }
   ],
   "source": [
    "for stud in my_stud:\n",
    "    print(stud)"
   ]
  },
  {
   "cell_type": "code",
   "execution_count": 6,
   "metadata": {},
   "outputs": [
    {
     "name": "stdout",
     "output_type": "stream",
     "text": [
      "San,good job!!!\n",
      "Harsha,good job!!!\n",
      "Sumit,good job!!!\n",
      "Suresh,good job!!!\n",
      "Zahir,good job!!!\n",
      "Malar,good job!!!\n",
      "Geetha,good job!!!\n"
     ]
    }
   ],
   "source": [
    "for x in my_stud:#enhancement of for loop--- automating print statement\n",
    "    print(f\"{x.title()},good job!!!\")#automate theprint statement for every one"
   ]
  },
  {
   "cell_type": "code",
   "execution_count": 9,
   "metadata": {},
   "outputs": [
    {
     "name": "stdout",
     "output_type": "stream",
     "text": [
      "Thanks for joining session, San\n",
      "Thanks for joining session, Harsha\n",
      "Thanks for joining session, Sumit\n",
      "Thanks for joining session, Suresh\n",
      "Thanks for joining session, Zahir\n",
      "Thanks for joining session, Malar\n",
      "Thanks for joining session, Geetha\n"
     ]
    }
   ],
   "source": [
    "for std in my_stud:\n",
    "    print(f\"Thanks for joining session, {std.title()}\")"
   ]
  },
  {
   "cell_type": "code",
   "execution_count": 14,
   "metadata": {},
   "outputs": [
    {
     "name": "stdout",
     "output_type": "stream",
     "text": [
      "Thanks for joining session, San\n",
      "\n",
      " Thanks for showing interest\n",
      "\n",
      "\n",
      "Thanks for joining session, Harsha\n",
      "\n",
      " Thanks for showing interest\n",
      "\n",
      "\n",
      "Thanks for joining session, Sumit\n",
      "\n",
      " Thanks for showing interest\n",
      "\n",
      "\n",
      "Thanks for joining session, Suresh\n",
      "\n",
      " Thanks for showing interest\n",
      "\n",
      "\n",
      "Thanks for joining session, Zahir\n",
      "\n",
      " Thanks for showing interest\n",
      "\n",
      "\n",
      "Thanks for joining session, Malar\n",
      "\n",
      " Thanks for showing interest\n",
      "\n",
      "\n",
      "Thanks for joining session, Geetha\n",
      "\n",
      " Thanks for showing interest\n",
      "\n",
      "\n"
     ]
    }
   ],
   "source": [
    "for std in my_stud:#further enhancement\n",
    "    print(f\"Thanks for joining session, {std.title()}\")\n",
    "    print('\\n Thanks for showing interest')#\\n->space between each line\n",
    "    print('\\n')"
   ]
  },
  {
   "cell_type": "code",
   "execution_count": 15,
   "metadata": {},
   "outputs": [
    {
     "name": "stdout",
     "output_type": "stream",
     "text": [
      "1\n",
      "2\n",
      "3\n",
      "4\n",
      "5\n",
      "6\n",
      "7\n",
      "8\n",
      "9\n",
      "10\n"
     ]
    }
   ],
   "source": [
    "for value in range(1,11):#making a numeric list-> last value is always excluded\n",
    "    print(value)"
   ]
  },
  {
   "cell_type": "code",
   "execution_count": 16,
   "metadata": {},
   "outputs": [
    {
     "name": "stdout",
     "output_type": "stream",
     "text": [
      "[1, 2, 3, 4, 5]\n"
     ]
    }
   ],
   "source": [
    "numbers=list(range(1,6))#how to use the range to make a list of nos:\n",
    "\n",
    "print(numbers)"
   ]
  },
  {
   "cell_type": "code",
   "execution_count": 17,
   "metadata": {},
   "outputs": [
    {
     "name": "stdout",
     "output_type": "stream",
     "text": [
      "[2, 4, 6, 8, 10, 12, 14, 16, 18, 20, 22, 24, 26, 28, 30, 32, 34, 36, 38, 40, 42, 44, 46, 48, 50]\n"
     ]
    }
   ],
   "source": [
    "even_num=list(range(2,51,2))#range is also having step count validation\n",
    "\n",
    "print(even_num)#to print only even numbers"
   ]
  },
  {
   "cell_type": "code",
   "execution_count": 19,
   "metadata": {},
   "outputs": [
    {
     "name": "stdout",
     "output_type": "stream",
     "text": [
      "[5, 10, 15, 20, 25, 30, 35, 40, 45, 50]\n"
     ]
    }
   ],
   "source": [
    "x=list(range(5,51,5))\n",
    "\n",
    "print(x)"
   ]
  },
  {
   "cell_type": "code",
   "execution_count": null,
   "metadata": {},
   "outputs": [],
   "source": []
  }
 ],
 "metadata": {
  "kernelspec": {
   "display_name": "Python 3",
   "language": "python",
   "name": "python3"
  },
  "language_info": {
   "codemirror_mode": {
    "name": "ipython",
    "version": 3
   },
   "file_extension": ".py",
   "mimetype": "text/x-python",
   "name": "python",
   "nbconvert_exporter": "python",
   "pygments_lexer": "ipython3",
   "version": "3.7.4"
  }
 },
 "nbformat": 4,
 "nbformat_minor": 2
}

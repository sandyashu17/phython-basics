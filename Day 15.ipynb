{
 "cells": [
  {
   "cell_type": "code",
   "execution_count": null,
   "metadata": {},
   "outputs": [],
   "source": [
    "#special methods of a class"
   ]
  },
  {
   "cell_type": "code",
   "execution_count": 2,
   "metadata": {},
   "outputs": [],
   "source": [
    "#constructor\n",
    "#def __init__#double underscores"
   ]
  },
  {
   "cell_type": "code",
   "execution_count": 3,
   "metadata": {},
   "outputs": [],
   "source": [
    "class Dog:\n",
    "    \"\"\"simple attempt to model a dog\"\"\"\n",
    "    \n",
    "    def __init__(self,name,age):\n",
    "        self.name=name\n",
    "        self.age=age\n",
    "        print('executed and called out')\n",
    "        \n",
    "    def sit(self):\n",
    "        \"\"\"stimulate a dog sitting in resonse to a command\"\"\"\n",
    "        print(f\" {self.name} is sitting now\")\n",
    "        \n",
    "    def roll(self):\n",
    "        \"\"\"stimulate a dog roll over in resonse to a command\"\"\"\n",
    "        print(f\" {self.name} rolled over!\")  \n",
    "    "
   ]
  },
  {
   "cell_type": "code",
   "execution_count": 4,
   "metadata": {},
   "outputs": [
    {
     "name": "stdout",
     "output_type": "stream",
     "text": [
      "executed and called out\n"
     ]
    }
   ],
   "source": [
    "abc = Dog('Ju',3)"
   ]
  },
  {
   "cell_type": "code",
   "execution_count": 5,
   "metadata": {},
   "outputs": [
    {
     "name": "stdout",
     "output_type": "stream",
     "text": [
      " Ju is sitting now\n"
     ]
    }
   ],
   "source": [
    "abc.sit()"
   ]
  },
  {
   "cell_type": "code",
   "execution_count": 6,
   "metadata": {},
   "outputs": [
    {
     "name": "stdout",
     "output_type": "stream",
     "text": [
      " Ju rolled over!\n"
     ]
    }
   ],
   "source": [
    "abc.roll()"
   ]
  },
  {
   "cell_type": "code",
   "execution_count": 7,
   "metadata": {},
   "outputs": [],
   "source": [
    "#req: --()\n",
    "#introduction to passing arbitary num of arguments: "
   ]
  },
  {
   "cell_type": "code",
   "execution_count": 8,
   "metadata": {},
   "outputs": [],
   "source": [
    "def make_pizaa(*toppings):#----kwargs\n",
    "    \"\"\"print list of toppings\"\"\"\n",
    "    print(toppings)\n"
   ]
  },
  {
   "cell_type": "code",
   "execution_count": 10,
   "metadata": {},
   "outputs": [
    {
     "name": "stdout",
     "output_type": "stream",
     "text": [
      "('olives', 'onion', 'corn', 'cheese')\n"
     ]
    }
   ],
   "source": [
    "make_pizaa('olives','onion','corn','cheese')"
   ]
  },
  {
   "cell_type": "code",
   "execution_count": 11,
   "metadata": {},
   "outputs": [
    {
     "name": "stdout",
     "output_type": "stream",
     "text": [
      "('tomato', 'mushroom')\n"
     ]
    }
   ],
   "source": [
    "make_pizaa('tomato','mushroom')"
   ]
  },
  {
   "cell_type": "code",
   "execution_count": 12,
   "metadata": {},
   "outputs": [],
   "source": [
    "#enhancement of code"
   ]
  },
  {
   "cell_type": "code",
   "execution_count": 15,
   "metadata": {},
   "outputs": [],
   "source": [
    "def make_pizaa(*toppings):#----kwargs\n",
    "    \"\"\"print list of toppings\"\"\"\n",
    "    print(f\"\\n Making pizza with following toppings\")\n",
    "    for topping in toppings:\n",
    "        print(f\" - {topping}\")"
   ]
  },
  {
   "cell_type": "code",
   "execution_count": 16,
   "metadata": {},
   "outputs": [
    {
     "name": "stdout",
     "output_type": "stream",
     "text": [
      "\n",
      " Making pizza with following toppings\n",
      " - tomato\n",
      " - mushroom\n"
     ]
    }
   ],
   "source": [
    "make_pizaa('tomato','mushroom')"
   ]
  },
  {
   "cell_type": "code",
   "execution_count": 17,
   "metadata": {},
   "outputs": [],
   "source": [
    "#rew is to ef size as well!!"
   ]
  },
  {
   "cell_type": "code",
   "execution_count": 18,
   "metadata": {},
   "outputs": [],
   "source": [
    "def make_pizaa(size, *toppings):#----kwargs\n",
    "    \"\"\"print list of toppings\"\"\"\n",
    "    print(f\"ordered {size} inch pizza with the {toppings} as toppings\")"
   ]
  },
  {
   "cell_type": "code",
   "execution_count": 19,
   "metadata": {},
   "outputs": [
    {
     "name": "stdout",
     "output_type": "stream",
     "text": [
      "ordered 15 inch pizza with the ('tomato', 'mushroom') as toppings\n"
     ]
    }
   ],
   "source": [
    "make_pizaa(15, 'tomato','mushroom')"
   ]
  },
  {
   "cell_type": "code",
   "execution_count": null,
   "metadata": {},
   "outputs": [],
   "source": []
  }
 ],
 "metadata": {
  "kernelspec": {
   "display_name": "Python 3",
   "language": "python",
   "name": "python3"
  },
  "language_info": {
   "codemirror_mode": {
    "name": "ipython",
    "version": 3
   },
   "file_extension": ".py",
   "mimetype": "text/x-python",
   "name": "python",
   "nbconvert_exporter": "python",
   "pygments_lexer": "ipython3",
   "version": "3.7.4"
  }
 },
 "nbformat": 4,
 "nbformat_minor": 2
}
